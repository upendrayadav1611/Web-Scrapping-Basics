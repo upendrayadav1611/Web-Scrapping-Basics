{
 "cells": [
  {
   "cell_type": "code",
   "execution_count": 7,
   "metadata": {},
   "outputs": [
    {
     "name": "stdout",
     "output_type": "stream",
     "text": [
      "Please enter the date (in the format 'YYYY-mm-dd' or 'latest'): 2007-09-03\n",
      "Convert From(currency): GBP\n",
      "Conver to (currency): USD\n",
      "How much GBP do you want to convert: 26\n",
      "\n",
      " 26.0 GBP is equal to 52.45016648040001 USD, base upon exchange rates on 2007-09-03\n"
     ]
    }
   ],
   "source": [
    "import requests\n",
    "date= input(\"Please enter the date (in the format 'YYYY-mm-dd' or 'latest'): \")\n",
    "base= input(\"Convert From(currency): \")\n",
    "curr= input(\"Conver to (currency): \")\n",
    "quan= float(input(\"How much {} do you want to convert: \" .format(base)))\n",
    "\n",
    "base_url=\"https://api.exchangeratesapi.io\"\n",
    "url = base_url + \"/\" + date + \"?base=\" + base + \"&symbols=\"+ curr\n",
    "response = requests.get(url)\n",
    "\n",
    "if(response.ok is False):\n",
    "    print(\"\\n Error{}: \" .format(response.status_code))\n",
    "    print(response.json()['error'])\n",
    "    \n",
    "else:\n",
    "    data=response.json()\n",
    "    rate=data['rates'][curr]\n",
    "    result=quan*rate\n",
    "    \n",
    "    print(\"\\n {0} {1} is equal to {2} {3}, base upon exchange rates on {4}\".format(quan,base,result,curr,data['date']))\n"
   ]
  },
  {
   "cell_type": "code",
   "execution_count": null,
   "metadata": {},
   "outputs": [],
   "source": []
  }
 ],
 "metadata": {
  "kernelspec": {
   "display_name": "Python 3",
   "language": "python",
   "name": "python3"
  },
  "language_info": {
   "codemirror_mode": {
    "name": "ipython",
    "version": 3
   },
   "file_extension": ".py",
   "mimetype": "text/x-python",
   "name": "python",
   "nbconvert_exporter": "python",
   "pygments_lexer": "ipython3",
   "version": "3.7.6"
  }
 },
 "nbformat": 4,
 "nbformat_minor": 4
}
